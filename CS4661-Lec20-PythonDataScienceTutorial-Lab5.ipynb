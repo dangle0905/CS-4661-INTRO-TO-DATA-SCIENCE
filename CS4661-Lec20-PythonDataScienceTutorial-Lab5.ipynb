{
 "cells": [
  {
   "cell_type": "markdown",
   "metadata": {},
   "source": [
    "# Introduction to Data Science (CS4661). Cal State Univ. LA, CS Dept.\n",
    "## Dr. Mohammad Porhomayoun\n",
    "----------------------------------------------------------------------------------------------\n",
    "----------------------------------------------------------------------------------------------"
   ]
  },
  {
   "cell_type": "markdown",
   "metadata": {},
   "source": [
    "\n",
    "# Data Science in Python - Lab5\n",
    "\n",
    "#### This is an introduction to some data sceince libraries/packages in python. Feel free to refer to the suggested resources and documentaries for more details.\n",
    "\n",
    "----------------------------------------------------------------------------------------------\n",
    "----------------------------------------------------------------------------------------------\n"
   ]
  },
  {
   "cell_type": "markdown",
   "metadata": {},
   "source": [
    "# Random Forest"
   ]
  },
  {
   "cell_type": "code",
   "execution_count": 3,
   "metadata": {},
   "outputs": [],
   "source": [
    "from sklearn.ensemble import RandomForestClassifier\n",
    "\n",
    "# You can adjust parameters:\n",
    "my_RandomForest = RandomForestClassifier(n_estimators = 19, bootstrap = True, random_state=2)\n",
    "\n",
    "# for training:  my_RandomForest.fit \n",
    "# for testing/prediction:  my_RandomForest.predict"
   ]
  },
  {
   "cell_type": "code",
   "execution_count": null,
   "metadata": {},
   "outputs": [],
   "source": []
  },
  {
   "cell_type": "markdown",
   "metadata": {},
   "source": [
    "# Model Evaluation and Visualization \n"
   ]
  },
  {
   "cell_type": "markdown",
   "metadata": {},
   "source": [
    "###    More on LOGISTIC REGRESSION:\n",
    "#### Importing the sklearn class (machine learning algorithm) that you would like to use for modeling:"
   ]
  },
  {
   "cell_type": "code",
   "execution_count": 4,
   "metadata": {},
   "outputs": [],
   "source": [
    "# Importing libraries and packages:\n",
    "\n",
    "from sklearn.linear_model import LogisticRegression\n",
    "from sklearn.cluster import KMeans\n",
    "from sklearn.model_selection import train_test_split\n",
    "from sklearn.metrics import accuracy_score\n",
    "from sklearn.model_selection import cross_val_score\n",
    "from sklearn import metrics\n",
    "import matplotlib.pyplot as plt\n",
    "import numpy as np\n",
    "import pandas as pd"
   ]
  },
  {
   "cell_type": "markdown",
   "metadata": {},
   "source": [
    "#### Set up the Feature Matrix and Label Vector:"
   ]
  },
  {
   "cell_type": "code",
   "execution_count": 5,
   "metadata": {},
   "outputs": [
    {
     "data": {
      "text/html": [
       "<div>\n",
       "<style scoped>\n",
       "    .dataframe tbody tr th:only-of-type {\n",
       "        vertical-align: middle;\n",
       "    }\n",
       "\n",
       "    .dataframe tbody tr th {\n",
       "        vertical-align: top;\n",
       "    }\n",
       "\n",
       "    .dataframe thead th {\n",
       "        text-align: right;\n",
       "    }\n",
       "</style>\n",
       "<table border=\"1\" class=\"dataframe\">\n",
       "  <thead>\n",
       "    <tr style=\"text-align: right;\">\n",
       "      <th></th>\n",
       "      <th>Clump_Thickness</th>\n",
       "      <th>Uniformity_of_Cell_Size</th>\n",
       "      <th>Uniformity_of_Cell_Shape</th>\n",
       "      <th>Marginal_Adhesion</th>\n",
       "      <th>Single_Epithelial_Cell_Size</th>\n",
       "      <th>Bare_Nuclei</th>\n",
       "      <th>Bland_Chromatin</th>\n",
       "      <th>Normal_Nucleoli</th>\n",
       "      <th>Mitoses</th>\n",
       "      <th>Malignant_Cancer</th>\n",
       "    </tr>\n",
       "  </thead>\n",
       "  <tbody>\n",
       "    <tr>\n",
       "      <th>0</th>\n",
       "      <td>5</td>\n",
       "      <td>1</td>\n",
       "      <td>1</td>\n",
       "      <td>1</td>\n",
       "      <td>2</td>\n",
       "      <td>1</td>\n",
       "      <td>3</td>\n",
       "      <td>1</td>\n",
       "      <td>1</td>\n",
       "      <td>0</td>\n",
       "    </tr>\n",
       "    <tr>\n",
       "      <th>1</th>\n",
       "      <td>5</td>\n",
       "      <td>4</td>\n",
       "      <td>4</td>\n",
       "      <td>5</td>\n",
       "      <td>7</td>\n",
       "      <td>10</td>\n",
       "      <td>3</td>\n",
       "      <td>2</td>\n",
       "      <td>1</td>\n",
       "      <td>0</td>\n",
       "    </tr>\n",
       "    <tr>\n",
       "      <th>2</th>\n",
       "      <td>3</td>\n",
       "      <td>1</td>\n",
       "      <td>1</td>\n",
       "      <td>1</td>\n",
       "      <td>2</td>\n",
       "      <td>2</td>\n",
       "      <td>3</td>\n",
       "      <td>1</td>\n",
       "      <td>1</td>\n",
       "      <td>0</td>\n",
       "    </tr>\n",
       "    <tr>\n",
       "      <th>3</th>\n",
       "      <td>6</td>\n",
       "      <td>8</td>\n",
       "      <td>8</td>\n",
       "      <td>1</td>\n",
       "      <td>3</td>\n",
       "      <td>4</td>\n",
       "      <td>3</td>\n",
       "      <td>7</td>\n",
       "      <td>1</td>\n",
       "      <td>0</td>\n",
       "    </tr>\n",
       "    <tr>\n",
       "      <th>4</th>\n",
       "      <td>4</td>\n",
       "      <td>1</td>\n",
       "      <td>1</td>\n",
       "      <td>3</td>\n",
       "      <td>2</td>\n",
       "      <td>1</td>\n",
       "      <td>3</td>\n",
       "      <td>1</td>\n",
       "      <td>1</td>\n",
       "      <td>0</td>\n",
       "    </tr>\n",
       "  </tbody>\n",
       "</table>\n",
       "</div>"
      ],
      "text/plain": [
       "   Clump_Thickness  Uniformity_of_Cell_Size  Uniformity_of_Cell_Shape  \\\n",
       "0                5                        1                         1   \n",
       "1                5                        4                         4   \n",
       "2                3                        1                         1   \n",
       "3                6                        8                         8   \n",
       "4                4                        1                         1   \n",
       "\n",
       "   Marginal_Adhesion  Single_Epithelial_Cell_Size  Bare_Nuclei  \\\n",
       "0                  1                            2            1   \n",
       "1                  5                            7           10   \n",
       "2                  1                            2            2   \n",
       "3                  1                            3            4   \n",
       "4                  3                            2            1   \n",
       "\n",
       "   Bland_Chromatin  Normal_Nucleoli  Mitoses  Malignant_Cancer  \n",
       "0                3                1        1                 0  \n",
       "1                3                2        1                 0  \n",
       "2                3                1        1                 0  \n",
       "3                3                7        1                 0  \n",
       "4                3                1        1                 0  "
      ]
     },
     "execution_count": 5,
     "metadata": {},
     "output_type": "execute_result"
    }
   ],
   "source": [
    "# reading a CSV file directly from Web (or local drive), and store it in a pandas DataFrame:\n",
    "# \"read_csv\" is a pandas function to read csv files from web or local drive:\n",
    "\n",
    "#cancer_df = pd.read_csv('/Users/mpourho/Documents/CSU/Courses/CS4661/Datasets/Cancer.csv')\n",
    "cancer_df = pd.read_csv('https://raw.githubusercontent.com/mpourhoma/CS4661/master/Cancer.csv')\n",
    "\n",
    "# checking the dataset by printing every 10 lines:\n",
    "cancer_df.head()"
   ]
  },
  {
   "cell_type": "code",
   "execution_count": 6,
   "metadata": {},
   "outputs": [
    {
     "name": "stdout",
     "output_type": "stream",
     "text": [
      "   Clump_Thickness  Uniformity_of_Cell_Size  Uniformity_of_Cell_Shape  \\\n",
      "0                5                        1                         1   \n",
      "1                5                        4                         4   \n",
      "2                3                        1                         1   \n",
      "3                6                        8                         8   \n",
      "4                4                        1                         1   \n",
      "\n",
      "   Marginal_Adhesion  Single_Epithelial_Cell_Size  Bare_Nuclei  \\\n",
      "0                  1                            2            1   \n",
      "1                  5                            7           10   \n",
      "2                  1                            2            2   \n",
      "3                  1                            3            4   \n",
      "4                  3                            2            1   \n",
      "\n",
      "   Bland_Chromatin  Normal_Nucleoli  Mitoses  \n",
      "0                3                1        1  \n",
      "1                3                2        1  \n",
      "2                3                1        1  \n",
      "3                3                7        1  \n",
      "4                3                1        1  \n",
      "0    0\n",
      "1    0\n",
      "2    0\n",
      "3    0\n",
      "4    0\n",
      "Name: Malignant_Cancer, dtype: int64\n"
     ]
    }
   ],
   "source": [
    "# create a python list of feature names that would like to pick from the dataset:\n",
    "feature_cols = ['Clump_Thickness','Uniformity_of_Cell_Size','Uniformity_of_Cell_Shape',\n",
    "                'Marginal_Adhesion','Single_Epithelial_Cell_Size','Bare_Nuclei',\n",
    "                'Bland_Chromatin','Normal_Nucleoli','Mitoses']\n",
    "\n",
    "# use the above list to select the features from the original DataFrame\n",
    "X = cancer_df[feature_cols] \n",
    "\n",
    "# select a Series of labels (the last column) from the DataFrame\n",
    "y = cancer_df['Malignant_Cancer']\n",
    "\n",
    "# print the first 5 rows\n",
    "print(X.head())\n",
    "print(y.head())"
   ]
  },
  {
   "cell_type": "markdown",
   "metadata": {},
   "source": [
    "#### Splitting the Dataset:"
   ]
  },
  {
   "cell_type": "code",
   "execution_count": 7,
   "metadata": {},
   "outputs": [
    {
     "name": "stdout",
     "output_type": "stream",
     "text": [
      "(120, 9)\n",
      "(120,)\n",
      "(30, 9)\n",
      "(30,)\n"
     ]
    }
   ],
   "source": [
    "# Randomly splitting the original dataset into training set and testing set:\n",
    "X_train, X_test, y_train, y_test = train_test_split(X, y, test_size=0.2, random_state=2)\n",
    "\n",
    "# print the size of the traning set:\n",
    "print(X_train.shape)\n",
    "print(y_train.shape)\n",
    "\n",
    "# print the size of the testing set:\n",
    "print(X_test.shape)\n",
    "print(y_test.shape)"
   ]
  },
  {
   "cell_type": "markdown",
   "metadata": {},
   "source": [
    "#### Defining (instantiating) an \"object\" from the sklearn class:"
   ]
  },
  {
   "cell_type": "code",
   "execution_count": 8,
   "metadata": {},
   "outputs": [],
   "source": [
    "# \"my_logreg\" is instantiated as an \"object\" of LogisticRegression \"class\". \n",
    "my_logreg = LogisticRegression()\n"
   ]
  },
  {
   "cell_type": "markdown",
   "metadata": {},
   "source": [
    "#### Training Stage: Training a predictive model using the training dataset:\n"
   ]
  },
  {
   "cell_type": "code",
   "execution_count": 9,
   "metadata": {},
   "outputs": [
    {
     "data": {
      "text/plain": [
       "LogisticRegression()"
      ]
     },
     "execution_count": 9,
     "metadata": {},
     "output_type": "execute_result"
    }
   ],
   "source": [
    "# Training ONLY on the training set:\n",
    "my_logreg.fit(X_train, y_train)\n"
   ]
  },
  {
   "cell_type": "markdown",
   "metadata": {},
   "source": [
    "#### Testing (Prediction) Stage: Making prediction on new observations (Testing Data) using the trained model:\n"
   ]
  },
  {
   "cell_type": "code",
   "execution_count": 10,
   "metadata": {
    "scrolled": true
   },
   "outputs": [
    {
     "name": "stdout",
     "output_type": "stream",
     "text": [
      "[0 1 1 1 1 1 1 1 0 1 1 1 1 1 1 1 0 1 0 1 0 0 0 0 1 1 0 0 0 1]\n"
     ]
    }
   ],
   "source": [
    "# Testing on the testing set:\n",
    "y_predict_lr = my_logreg.predict(X_test)\n",
    "print(y_predict_lr)"
   ]
  },
  {
   "cell_type": "markdown",
   "metadata": {},
   "source": [
    "### Accuracy Evaluation:\n"
   ]
  },
  {
   "cell_type": "code",
   "execution_count": 11,
   "metadata": {},
   "outputs": [
    {
     "name": "stdout",
     "output_type": "stream",
     "text": [
      "0.9333333333333333\n"
     ]
    }
   ],
   "source": [
    "# We can now compare the \"predicted labels\" for the Testing Set with its \"actual labels\" to evaluate the accuracy \n",
    "\n",
    "score_lr = accuracy_score(y_test, y_predict_lr)\n",
    "\n",
    "print(score_lr)\n"
   ]
  },
  {
   "cell_type": "markdown",
   "metadata": {},
   "source": [
    "## Estimating the Probability (likelihood) of happening an Event: \n",
    "##### As we mentioned before, Logistic Regression can also estimate the probability of happening the event (estimating the likelihood of each label) rather than just providing a binary prediction (see Logistic Regression lecture for more information).\n",
    "##### Thus, we can adjust the True Positive Rate (TPR = Sensitivity) and False Positive Rate (FPR = False Alarm Rate) by changing the decision Threshold (see Model Evaluation lecture for more information)."
   ]
  },
  {
   "cell_type": "code",
   "execution_count": 12,
   "metadata": {},
   "outputs": [],
   "source": [
    "# Predicting the Binary Label:\n",
    "y_predict_lr = my_logreg.predict(X_test)\n",
    "\n",
    "# Estimating the probability (likelihood) of Each Label: \n",
    "y_predict_prob_lr = my_logreg.predict_proba(X_test)\n"
   ]
  },
  {
   "cell_type": "code",
   "execution_count": 13,
   "metadata": {},
   "outputs": [
    {
     "name": "stdout",
     "output_type": "stream",
     "text": [
      "6      0\n",
      "3      0\n",
      "113    1\n",
      "12     1\n",
      "24     1\n",
      "129    1\n",
      "25     1\n",
      "108    1\n",
      "128    0\n",
      "45     1\n",
      "48     1\n",
      "42     1\n",
      "35     1\n",
      "5      1\n",
      "85     1\n",
      "54     1\n",
      "41     0\n",
      "96     0\n",
      "144    0\n",
      "89     1\n",
      "77     0\n",
      "74     0\n",
      "115    0\n",
      "94     0\n",
      "87     1\n",
      "29     1\n",
      "2      0\n",
      "127    0\n",
      "44     0\n",
      "125    1\n",
      "Name: Malignant_Cancer, dtype: int64\n",
      "[0 1 1 1 1 1 1 1 0 1 1 1 1 1 1 1 0 1 0 1 0 0 0 0 1 1 0 0 0 1]\n",
      "[[9.09807758e-01 9.01922417e-02]\n",
      " [2.83281104e-04 9.99716719e-01]\n",
      " [4.90276653e-04 9.99509723e-01]\n",
      " [7.43561634e-02 9.25643837e-01]\n",
      " [4.94633299e-01 5.05366701e-01]\n",
      " [1.31204273e-04 9.99868796e-01]\n",
      " [8.17148236e-06 9.99991829e-01]\n",
      " [1.61491830e-02 9.83850817e-01]\n",
      " [9.55875551e-01 4.41244491e-02]\n",
      " [3.37108337e-02 9.66289166e-01]\n",
      " [1.54919533e-05 9.99984508e-01]\n",
      " [1.99599140e-05 9.99980040e-01]\n",
      " [1.20133678e-03 9.98798663e-01]\n",
      " [4.99805483e-06 9.99995002e-01]\n",
      " [9.10268592e-02 9.08973141e-01]\n",
      " [1.30977978e-02 9.86902202e-01]\n",
      " [9.91580974e-01 8.41902559e-03]\n",
      " [3.25204399e-01 6.74795601e-01]\n",
      " [9.94429615e-01 5.57038500e-03]\n",
      " [2.91272977e-03 9.97087270e-01]\n",
      " [9.69163564e-01 3.08364359e-02]\n",
      " [9.89688236e-01 1.03117642e-02]\n",
      " [9.94717360e-01 5.28264042e-03]\n",
      " [8.84684358e-01 1.15315642e-01]\n",
      " [4.04477066e-03 9.95955229e-01]\n",
      " [1.12888876e-04 9.99887111e-01]\n",
      " [9.80165958e-01 1.98340419e-02]\n",
      " [9.94429615e-01 5.57038500e-03]\n",
      " [9.93697373e-01 6.30262668e-03]\n",
      " [3.04836617e-01 6.95163383e-01]]\n",
      "[0.09019224 0.99971672 0.99950972 0.92564384 0.5053667  0.9998688\n",
      " 0.99999183 0.98385082 0.04412445 0.96628917 0.99998451 0.99998004\n",
      " 0.99879866 0.999995   0.90897314 0.9869022  0.00841903 0.6747956\n",
      " 0.00557039 0.99708727 0.03083644 0.01031176 0.00528264 0.11531564\n",
      " 0.99595523 0.99988711 0.01983404 0.00557039 0.00630263 0.69516338]\n"
     ]
    }
   ],
   "source": [
    "# This line prints the \"actual label\" of the testing set:\n",
    "print(y_test)\n",
    "\n",
    "# This line prints the \"predicted label\" for the testing set:\n",
    "print(y_predict_lr)\n",
    "\n",
    "# This line prints the \"estimated likelihood of both label\" for the testing set:\n",
    "print(y_predict_prob_lr)\n",
    "\n",
    "# This line prints the \"estimated likelihood of label=1\" for the testing set:\n",
    "print(y_predict_prob_lr[:,1])"
   ]
  },
  {
   "cell_type": "markdown",
   "metadata": {},
   "source": [
    "# True Positive Rate (TPR) and False Positive Rate (FPR):"
   ]
  },
  {
   "cell_type": "code",
   "execution_count": 14,
   "metadata": {},
   "outputs": [
    {
     "name": "stdout",
     "output_type": "stream",
     "text": [
      "[0.         0.         0.         0.07692308 0.07692308 0.15384615\n",
      " 0.15384615 0.76923077 0.92307692 1.        ]\n",
      "[0.         0.05882353 0.35294118 0.35294118 0.94117647 0.94117647\n",
      " 1.         1.         1.         1.        ]\n"
     ]
    }
   ],
   "source": [
    "from sklearn import metrics\n",
    "\n",
    "fpr, tpr, thresholds = metrics.roc_curve(y_test, y_predict_prob_lr[:,1], pos_label=1)\n",
    "\n",
    "print(fpr)\n",
    "print(tpr)"
   ]
  },
  {
   "cell_type": "markdown",
   "metadata": {},
   "source": [
    "# AUC:"
   ]
  },
  {
   "cell_type": "code",
   "execution_count": 15,
   "metadata": {},
   "outputs": [
    {
     "name": "stdout",
     "output_type": "stream",
     "text": [
      "0.9457013574660633\n"
     ]
    }
   ],
   "source": [
    "# AUC:\n",
    "AUC = metrics.auc(fpr, tpr)\n",
    "print(AUC)"
   ]
  },
  {
   "cell_type": "markdown",
   "metadata": {},
   "source": [
    "# ROC Curve:"
   ]
  },
  {
   "cell_type": "code",
   "execution_count": 16,
   "metadata": {},
   "outputs": [
    {
     "data": {
      "image/png": "[encoded data removed]",
      "text/plain": [
       "<Figure size 432x288 with 1 Axes>"
      ]
     },
     "metadata": {
      "needs_background": "light"
     },
     "output_type": "display_data"
    }
   ],
   "source": [
    "# Importing the \"pyplot\" package of \"matplotlib\" library of python to generate \n",
    "# graphs and plot curves:\n",
    "import matplotlib.pyplot as plt\n",
    "\n",
    "# The following line will tell Jupyter Notebook to keep the figures inside the explorer page \n",
    "# rather than openng a new figure window:\n",
    "%matplotlib inline\n",
    "\n",
    "plt.figure()\n",
    "\n",
    "# Roc Curve:\n",
    "plt.plot(fpr, tpr, color='red', lw=2, \n",
    "         label='ROC Curve (area = %0.2f)' % AUC)\n",
    "\n",
    "# Random Guess line:\n",
    "plt.plot([0, 1], [0, 1], color='blue', lw=1, linestyle='--')\n",
    "\n",
    "# Defining The Range of X-Axis and Y-Axis:\n",
    "plt.xlim([-0.005, 1.005])\n",
    "plt.ylim([0.0, 1.01])\n",
    "\n",
    "# Labels, Title, Legend:\n",
    "plt.xlabel('False Positive Rate')\n",
    "plt.ylabel('True Positive Rate')\n",
    "plt.title('Receiver operating characteristic')\n",
    "plt.legend(loc=\"lower right\")\n",
    "\n",
    "plt.show()"
   ]
  },
  {
   "cell_type": "markdown",
   "metadata": {},
   "source": [
    "### Repeating the process with smaller number of features:"
   ]
  },
  {
   "cell_type": "code",
   "execution_count": 17,
   "metadata": {},
   "outputs": [
    {
     "name": "stdout",
     "output_type": "stream",
     "text": [
      "0.8868778280542986\n"
     ]
    }
   ],
   "source": [
    "# create a python list of feature names that would like to pick from the dataset:\n",
    "feature_cols2 = ['Clump_Thickness','Mitoses']\n",
    "\n",
    "# use the above list to select the features from the original DataFrame\n",
    "X2 = cancer_df[feature_cols2] \n",
    "\n",
    "# select a Series of labels (the last column) from the DataFrame\n",
    "y2 = cancer_df['Malignant_Cancer']\n",
    "\n",
    "#Splitting the data\n",
    "X_train2, X_test2, y_train2, y_test2 = train_test_split(X2, y2, test_size=0.2, random_state=2)\n",
    "\n",
    "my_logreg2 = LogisticRegression()\n",
    "my_logreg2.fit(X_train2,y_train2)\n",
    "\n",
    "# Predicting the Binary Label:\n",
    "y_predict_lr2 = my_logreg2.predict(X_test2)\n",
    "\n",
    "# Estimating the probability (likelihood) of Each Label: \n",
    "y_predict_prob_lr2 = my_logreg2.predict_proba(X_test2)\n",
    "\n",
    "fpr2, tpr2, thresholds2 = metrics.roc_curve(y_test2, y_predict_prob_lr2[:,1], pos_label=1)\n",
    "AUC2 = metrics.auc(fpr2, tpr2)\n",
    "print(AUC2)"
   ]
  },
  {
   "cell_type": "markdown",
   "metadata": {},
   "source": [
    "### Comparing the ROC Curves:"
   ]
  },
  {
   "cell_type": "code",
   "execution_count": 18,
   "metadata": {},
   "outputs": [
    {
     "data": {
      "image/png": "[encoded data removed]",
      "text/plain": [
       "<Figure size 432x288 with 1 Axes>"
      ]
     },
     "metadata": {
      "needs_background": "light"
     },
     "output_type": "display_data"
    }
   ],
   "source": [
    "# The following line will tell Jupyter Notebook to keep the figures inside the explorer page \n",
    "%matplotlib inline\n",
    "\n",
    "plt.figure()\n",
    "\n",
    "# Roc Curve1:\n",
    "plt.plot(fpr, tpr, color='red', lw=2, \n",
    "         label='ROC Curve (area = %0.2f)' % AUC)\n",
    "\n",
    "# Roc Curve2:\n",
    "plt.plot(fpr2, tpr2, color='green', lw=2, \n",
    "         label='ROC Curve (area = %0.2f)' % AUC2)\n",
    "\n",
    "# Random Guess line:\n",
    "plt.plot([0, 1], [0, 1], color='blue', lw=1, linestyle='--')\n",
    "\n",
    "# Defining The Range of X-Axis and Y-Axis:\n",
    "plt.xlim([-0.005, 1.005])\n",
    "plt.ylim([0.0, 1.01])\n",
    "\n",
    "# Labels, Title, Legend:\n",
    "plt.xlabel('False Positive Rate')\n",
    "plt.ylabel('True Positive Rate')\n",
    "plt.title('Receiver operating characteristic')\n",
    "plt.legend(loc=\"lower right\")\n",
    "\n",
    "plt.show()"
   ]
  },
  {
   "cell_type": "markdown",
   "metadata": {},
   "source": [
    "# K-MEANS and\n",
    "# More on Visualization: Plotting KMeans Clustering Results"
   ]
  },
  {
   "cell_type": "code",
   "execution_count": null,
   "metadata": {},
   "outputs": [],
   "source": [
    "# The following line will tell Jupyter Notebook to keep the figures inside the explorer page \n",
    "%matplotlib inline\n",
    "\n",
    "# KMeans Clustering for iris dataset:\n",
    "iris_df = pd.read_csv('https://raw.githubusercontent.com/mpourhoma/CS4661/master/iris.csv')\n",
    "\n",
    "#feature_cols = ['sepal_length','sepal_width','petal_length','petal_width']\n",
    "feature_cols = ['sepal_length','petal_width']\n",
    "X = iris_df[feature_cols]\n",
    "\n",
    "# Clustering:\n",
    "my_KMeans = KMeans(n_clusters=3)\n",
    "my_KMeans.fit(X)\n",
    "\n",
    "# Assigned Labels after clustering: \n",
    "labels = my_KMeans.labels_\n",
    "\n",
    "# Centers of the clusters:\n",
    "centers = my_KMeans.cluster_centers_\n",
    "\n",
    "# Plotting the results:\n",
    "plt.figure\n",
    "\n",
    "for l, c in zip([0,1,2], ['red', 'blue', 'green']):\n",
    "    \n",
    "    current_members = (labels == l)\n",
    "    current_center = centers[l]\n",
    "    \n",
    "    plt.scatter(X.iloc[current_members,0], X.iloc[current_members,1], color = c, marker='x')\n",
    "    \n",
    "    plt.plot(current_center[0], current_center[1], 'o', markerfacecolor = c,\n",
    "            markeredgecolor = 'k', markersize=7)\n",
    "\n",
    "# Defining The Range of X-Axis and Y-Axis:\n",
    "plt.xlim([2, 10])\n",
    "plt.ylim([-0.5, 3])\n",
    "\n",
    "# Labels, Title, Legend:\n",
    "plt.xlabel('sepal length')\n",
    "plt.ylabel('petal width')\n",
    "plt.title('KMeans for IRIS dataset')\n",
    "\n",
    "plt.show"
   ]
  },
  {
   "cell_type": "code",
   "execution_count": null,
   "metadata": {},
   "outputs": [],
   "source": []
  }
 ],
 "metadata": {
  "anaconda-cloud": {},
  "kernelspec": {
   "display_name": "Python 3",
   "language": "python",
   "name": "python3"
  },
  "language_info": {
   "codemirror_mode": {
    "name": "ipython",
    "version": 3
   },
   "file_extension": ".py",
   "mimetype": "text/x-python",
   "name": "python",
   "nbconvert_exporter": "python",
   "pygments_lexer": "ipython3",
   "version": "3.8.8"
  }
 },
 "nbformat": 4,
 "nbformat_minor": 1
}
